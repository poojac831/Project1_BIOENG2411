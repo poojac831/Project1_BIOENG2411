{
 "cells": [
  {
   "cell_type": "code",
   "execution_count": 16,
   "id": "5de38faa",
   "metadata": {},
   "outputs": [],
   "source": [
    "#importing libraries\n",
    "import pandas as pd\n",
    "import numpy as np\n",
    "\n",
    "#loading in all data\n",
    "covid = pd.read_excel(\"coviddata.xlsx\")\n",
    "poverty = pd.read_excel(\"povertydata.xlsx\")\n",
    "house = pd.read_excel(\"multigenerationalhouseholddata.xlsx\")\n",
    "\n",
    "#merging datasets to one file and removing empty numbers\n",
    "data = covid.merge(poverty,on=\"Geography\")\n",
    "data = data.merge(house,on=\"Geography\")\n",
    "\n",
    "newdata = data.dropna()\n",
    "\n",
    "#write to a new csv file\n",
    "newdata.to_csv('data.csv')"
   ]
  }
 ],
 "metadata": {
  "kernelspec": {
   "display_name": "Python 3 (ipykernel)",
   "language": "python",
   "name": "python3"
  },
  "language_info": {
   "codemirror_mode": {
    "name": "ipython",
    "version": 3
   },
   "file_extension": ".py",
   "mimetype": "text/x-python",
   "name": "python",
   "nbconvert_exporter": "python",
   "pygments_lexer": "ipython3",
   "version": "3.9.12"
  }
 },
 "nbformat": 4,
 "nbformat_minor": 5
}
